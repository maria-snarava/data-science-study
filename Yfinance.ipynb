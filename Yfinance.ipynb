{
 "cells": [
  {
   "cell_type": "markdown",
   "id": "85d280c7",
   "metadata": {},
   "source": [
    "More info about libary https://aroussi.com/post/python-yahoo-finance"
   ]
  },
  {
   "cell_type": "code",
   "execution_count": 24,
   "id": "b284489c",
   "metadata": {},
   "outputs": [],
   "source": [
    "#!pip install yfinance"
   ]
  },
  {
   "cell_type": "code",
   "execution_count": 25,
   "id": "4422f42f",
   "metadata": {},
   "outputs": [
    {
     "name": "stdout",
     "output_type": "stream",
     "text": [
      "MSFT: No data found for this date range, symbol may be delisted\n",
      "- MSFT: No summary info found, symbol may be delisted\n",
      "yfinance.Ticker object <MSFT>\n"
     ]
    }
   ],
   "source": [
    "import yfinance as yf\n",
    "# Download historical data for a stock\n",
    "msft = yf.Ticker(\"MSFT\")\n",
    "msft_data = msft.history(period=\"max\")\n",
    "# Display the downloaded data\n",
    "msft.info\n",
    "print(msft)"
   ]
  },
  {
   "cell_type": "code",
   "execution_count": 23,
   "id": "6e88158a",
   "metadata": {},
   "outputs": [],
   "source": [
    "msft_data.reset_index(inplace=True)\n",
    "msft_data.plot(x=\"Date\", y=\"Open\")"
   ]
  },
  {
   "cell_type": "code",
   "execution_count": null,
   "id": "087b836d",
   "metadata": {},
   "outputs": [],
   "source": [
    "msft.dividends.plot()"
   ]
  }
 ],
 "metadata": {
  "kernelspec": {
   "display_name": "Python 3 (ipykernel)",
   "language": "python",
   "name": "python3"
  },
  "language_info": {
   "codemirror_mode": {
    "name": "ipython",
    "version": 3
   },
   "file_extension": ".py",
   "mimetype": "text/x-python",
   "name": "python",
   "nbconvert_exporter": "python",
   "pygments_lexer": "ipython3",
   "version": "3.11.2"
  }
 },
 "nbformat": 4,
 "nbformat_minor": 5
}
