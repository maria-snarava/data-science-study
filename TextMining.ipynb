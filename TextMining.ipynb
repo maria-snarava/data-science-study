{
 "cells": [
  {
   "cell_type": "code",
   "execution_count": null,
   "id": "b5869289",
   "metadata": {},
   "outputs": [],
   "source": [
    "theFallGuyReviews=\"I am a big fan of David Leitch. Beginning as a stuntman, he has now directed some of my favourite action movies, such as JOHN WICK, ATOMIC BLONDE, and BULLET TRAIN. I think his latest one just might be his most fun yet. THE FALL GUY is an action rom-com that is a love letter to the stunt community. They do very dangerous work while most of the time getting no credit. Loosely based on the 80s TV series, this story is about Colt Seavers (Ryan Gosling), a stunt double for an action superstar who’s a complete diva Tom Ryder (Aaron Taylor-Johnson). After an accident sidelines him for some time, Colt is brought back into the world he loves by producer Gail (Hannah Waddingham), who tells him the woman he loves, Jody (Emily Blunt), is making her directorial debut. He goes, only to become part of a mysterious conspiracy. THE FALL GUY is my favourite comedy in years. The writing is hilarious, full of meta humor done right. The chemistry between Ryan and Emily is perfect. The action scenes and stunts are aptly fantastic, as they should be in a movie that focuses on them. They even earned themselves a Guiness World Record for most cannon rolls in a car: 8.5. Gosling has an undeniable charisma that Blunt successfully matches here. Most of the reviews I’ve read have said it’s a little too long, but I had so much fun here I didn’t care how long it was. This is the definition of a popcorn movie, and I highly recommend seeing this with everybody you can, and their families. Pure fun! I am being rather generous with 5 stars for this movie because had it not have been for its endless action packed scenes to compensate, the storyline is exhausting to follow at times, although I must admit that I was also entertained watching Ryan Gosling talk full sentences in Fall Guy because I was used to Gosling being the quiet type, an undisputedly talented actor (La La Land and Barbie which I am not likely to ever watch), who could nevertheless not be trusted with too much script, but hey, Gosling kills it in Fall Guy as a great narrator...Emily Blunt (A quiet place 1 and 2 which I absolutely loved, Oppenheimer and Devel Wear Prada) is flawless throughout and in my opinion the perfect match for Gosling every step of the way. I enjoyed her doing Karaoke of Phil Collins, one of my most respected vocalists of all time, since he was the lead singer with Genesis but let's not get distracted here. The movie does tend to drag on at times but then just as you start to get impatient, it rewards you with some great action packed scenes. All and all, great entertainment. Newly released to theaters this weekend is an action-packed/love-story/meta-comedy adventure The Fall Guy. Starring Ryan Gosling and Emily Blunt, the two create an enjoyable on-screen couple full of witty banter. The story centers around a stunt man (Gosling) and new film director (Blunt) who mingle on the set of a new film. Outside the film set, trouble arises when the lead actor (played by Aaron Taylor-Johnson) goes missing. It’s fallen upon the stunt man to find the lead actor, save the film, and maybe impress the director. I remember seeing the movie trailer one time and didn’t think too much about it afterwards. However, after the first five minutes in the theater, I was into the story and having fun. That’s what this movie is, a lot of fun. The “movie within movie” has been done before, such as Tropic Thunder, and elements from those films can be seen here. It can, also, be easy to nitpick some points in this film that are tacked-on or just plain silly. Moments during the climax got carried away but it was able to refocus to make for a solid ending. I’ll admit, I enjoyed all the stunt scenes more than the second storyline about the missing lead actor. Nevertheless, you can probably nit-pick everything while in the theater and still have a great time watching this film.Ryan Gosling will always be his adorable self on screen and Emily Blunt, as always, shines in every role. Together, they make this film work in both the more serious and funny moments. You can tell both actors enjoyed working on this film together, one scene in particular stands out. Between the “will-they-won’t-they” storyline, is the action scenes. This film showcases how action scenes come to life and respects the profession of the stunt man. Cars get flipped, big explosions happen, actors get pulled everywhere, etc. This film delivers everything promised in the movie trailer, which I appreciate. Overall, this is a fun with worth the price of admission plus extra large popcorn. The runtime of two hours will go by quickly with good laughs and explosions.\"\n",
    "\n",
    "#A simple exsample of class wor text analysis.\n",
    "class TextAnalyzer(object):\n",
    "    \n",
    "    # Initializes the class with a 'text' parameter.\n",
    "    def __init__ (self, text):\n",
    "        # remove punctuation\n",
    "        formattedText = text.replace('.', '').replace('!', '').replace('?', '').replace(',', '')#It's better to use regex here\n",
    "        # make text lowercase\n",
    "        formattedText = text.lower()\n",
    "        self.text = formattedText\n",
    "        self.dictionary = self.freqAll()\n",
    "        self.cleanWords()\n",
    "        \n",
    "    # Count freq of all words in reviews\n",
    "    def freqAll(self):        \n",
    "        wordList = self.text.split() # split text into words\n",
    "        dictionary = {}\n",
    "        for word in set(wordList): # use set to remove duplicates in list\n",
    "            dictionary[word] = wordList.count(word) #count every word\n",
    "        \n",
    "        return dictionary\n",
    "    \n",
    "    # Return freq of word in reviews\n",
    "    def freqOf(self, word):\n",
    "        if word in self.dictionary:\n",
    "            return self.dictionary[word]\n",
    "        else:\n",
    "            return 0\n",
    "    \n",
    "    # Delete unhelpful words\n",
    "    def cleanWords(self): #I hope to use more NLP here later :)\n",
    "        wordsToDelete = ['in', 'this', 'of', 'a', 'the', 'and', 'is', 'to', 'i']\n",
    "        for word in wordsToDelete:\n",
    "            del(self.dictionary[word])\n",
    "        pass\n",
    "    \n",
    "    # Shoe most popular words\n",
    "    def topWords(self):\n",
    "        top = {}\n",
    "        for word, count in self.dictionary.items():\n",
    "            if count >= 3:\n",
    "                top[word] = count\n",
    "        return top\n",
    "        \n",
    "analyzed = TextAnalyzer(theFallGuyReviews)\n",
    "\n",
    "print(f\"We met word fun {analyzed.freqOf('fun')} time(s)\")\n",
    "print(f\"We met word fun {analyzed.freqOf('great')} time(s)\")\n",
    "print(f\"We met word fun {analyzed.freqOf('boring')} time(s)\")\n"
   ]
  }
 ],
 "metadata": {
  "kernelspec": {
   "display_name": "Python 3 (ipykernel)",
   "language": "python",
   "name": "python3"
  },
  "language_info": {
   "codemirror_mode": {
    "name": "ipython",
    "version": 3
   },
   "file_extension": ".py",
   "mimetype": "text/x-python",
   "name": "python",
   "nbconvert_exporter": "python",
   "pygments_lexer": "ipython3",
   "version": "3.11.2"
  }
 },
 "nbformat": 4,
 "nbformat_minor": 5
}
